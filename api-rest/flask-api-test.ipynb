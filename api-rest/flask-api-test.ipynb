{
 "cells": [
  {
   "cell_type": "code",
   "execution_count": 2,
   "metadata": {},
   "outputs": [],
   "source": [
    "import requests\n",
    "from bs4 import BeautifulSoup"
   ]
  },
  {
   "cell_type": "code",
   "execution_count": 3,
   "metadata": {},
   "outputs": [
    {
     "name": "stdout",
     "output_type": "stream",
     "text": [
      "b'<!DOCTYPE HTML PUBLIC \"-//W3C//DTD HTML 3.2 Final//EN\">\\n<title>404 Not Found</title>\\n<h1>Not Found</h1>\\n<p>The requested URL was not found on the server. If you entered the URL manually please check your spelling and try again.</p>\\n'\n",
      "\n",
      "\n",
      "\n",
      "<Response [404]> <!DOCTYPE HTML PUBLIC \"-//W3C//DTD HTML 3.2 Final//EN\">\n",
      "<html><head><title>404 Not Found</title>\n",
      "</head><body><h1>Not Found</h1>\n",
      "<p>The requested URL was not found on the server. If you entered the URL manually please check your spelling and try again.</p>\n",
      "</body></html>\n"
     ]
    }
   ],
   "source": [
    "res = requests.get(\"http://localhost:5000\")\n",
    "print(res.content)\n",
    "print(\"\\n\\n\")\n",
    "content = BeautifulSoup(res.content)\n",
    "print(res, content)"
   ]
  },
  {
   "cell_type": "code",
   "execution_count": 4,
   "metadata": {},
   "outputs": [
    {
     "name": "stdout",
     "output_type": "stream",
     "text": [
      "<Response [200]> <html><body><p>{\n",
      "    \"id\": \"id1\",\n",
      "    \"name\": \"tv1\",\n",
      "    \"price\": 1000\n",
      "}\n",
      "</p></body></html>\n"
     ]
    }
   ],
   "source": [
    "res = requests.get(\"http://localhost:5000/tv/id1\")\n",
    "content = BeautifulSoup(res.content)\n",
    "print(res, content)"
   ]
  },
  {
   "cell_type": "code",
   "execution_count": 5,
   "metadata": {},
   "outputs": [
    {
     "name": "stdout",
     "output_type": "stream",
     "text": [
      "<Response [400]> <html><body><p>\"Object with id id1 already exists\"\n",
      "</p></body></html>\n"
     ]
    }
   ],
   "source": [
    "res = requests.post(\"http://localhost:5000/tv/id1?name=tv1_new&price=400\")\n",
    "content = BeautifulSoup(res.content)\n",
    "print(res, content)"
   ]
  },
  {
   "cell_type": "code",
   "execution_count": 6,
   "metadata": {},
   "outputs": [
    {
     "name": "stdout",
     "output_type": "stream",
     "text": [
      "<Response [201]> <html><body><p>{\n",
      "    \"id\": \"id6\",\n",
      "    \"name\": \"tv1_new\",\n",
      "    \"price\": \"400\"\n",
      "}\n",
      "</p></body></html>\n"
     ]
    }
   ],
   "source": [
    "res = requests.post(\"http://localhost:5000/tv/id6?name=tv1_new&price=400\")\n",
    "content = BeautifulSoup(res.content)\n",
    "print(res, content)"
   ]
  },
  {
   "cell_type": "code",
   "execution_count": 7,
   "metadata": {},
   "outputs": [
    {
     "name": "stdout",
     "output_type": "stream",
     "text": [
      "<Response [200]> \n",
      " <html><body><p>{\n",
      "    \"id\": \"id6\",\n",
      "    \"name\": \"tv1_update\",\n",
      "    \"price\": \"400\"\n",
      "}\n",
      "</p></body></html>\n"
     ]
    }
   ],
   "source": [
    "res = requests.put(\"http://localhost:5000/tv/id6?name=tv1_update&price=400\")\n",
    "content = BeautifulSoup(res.content)\n",
    "print(res, \"\\n\", content)"
   ]
  },
  {
   "cell_type": "code",
   "execution_count": 34,
   "metadata": {},
   "outputs": [
    {
     "name": "stdout",
     "output_type": "stream",
     "text": [
      "<Response [201]> <html><body><p>{\n",
      "    \"id\": \"id7\",\n",
      "    \"name\": \"tv7_put\",\n",
      "    \"price\": \"800\"\n",
      "}\n",
      "</p></body></html>\n"
     ]
    }
   ],
   "source": [
    "res = requests.put(\"http://localhost:5000/tv/id7?name=tv7_put&price=800\")\n",
    "content = BeautifulSoup(res.content)\n",
    "print(res, content)"
   ]
  },
  {
   "cell_type": "code",
   "execution_count": 36,
   "metadata": {},
   "outputs": [
    {
     "name": "stdout",
     "output_type": "stream",
     "text": [
      "<Response [200]> <html><body><p>{\n",
      "    \"id\": \"id1\",\n",
      "    \"name\": \"tv1\",\n",
      "    \"price\": 1000\n",
      "}\n",
      "</p></body></html>\n"
     ]
    }
   ],
   "source": [
    "res = requests.delete(\"http://localhost:5000/tv/id1\")\n",
    "content = BeautifulSoup(res.content)\n",
    "print(res, content)"
   ]
  },
  {
   "cell_type": "code",
   "execution_count": 37,
   "metadata": {},
   "outputs": [
    {
     "name": "stdout",
     "output_type": "stream",
     "text": [
      "<Response [404]> <html><body><p>\"Object with id id1is not found\"\n",
      "</p></body></html>\n"
     ]
    }
   ],
   "source": [
    "res = requests.delete(\"http://localhost:5000/tv/id1\")\n",
    "content = BeautifulSoup(res.content)\n",
    "print(res, content)"
   ]
  },
  {
   "cell_type": "code",
   "execution_count": null,
   "metadata": {},
   "outputs": [],
   "source": []
  }
 ],
 "metadata": {
  "kernelspec": {
   "display_name": "Python 3",
   "language": "python",
   "name": "python3"
  },
  "language_info": {
   "codemirror_mode": {
    "name": "ipython",
    "version": 3
   },
   "file_extension": ".py",
   "mimetype": "text/x-python",
   "name": "python",
   "nbconvert_exporter": "python",
   "pygments_lexer": "ipython3",
   "version": "3.7.3"
  }
 },
 "nbformat": 4,
 "nbformat_minor": 2
}
