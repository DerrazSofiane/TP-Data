{
 "cells": [
  {
   "cell_type": "markdown",
   "metadata": {},
   "source": [
    "pip install flask-restful"
   ]
  },
  {
   "cell_type": "code",
   "execution_count": 3,
   "metadata": {},
   "outputs": [],
   "source": [
    "from flask import Flask\n",
    "from flask_restful import Api, Resource, reqparse"
   ]
  },
  {
   "cell_type": "code",
   "execution_count": 10,
   "metadata": {},
   "outputs": [],
   "source": [
    "app = Flask(__name__)\n",
    "api = Api(app)"
   ]
  },
  {
   "cell_type": "code",
   "execution_count": null,
   "metadata": {},
   "outputs": [],
   "source": [
    "tvs = \\\n",
    "[\n",
    "    {\n",
    "        \"id\" : \"id1\",\n",
    "        \"name\" : \"tv1\",\n",
    "        \"price\": 1000\n",
    "    },\n",
    "    {\n",
    "        \"id\" : \"id2\",\n",
    "        \"name\" : \"tv2\",\n",
    "        \"price\": 2000\n",
    "    },\n",
    "    {\n",
    "        \"id\" : \"id3\",\n",
    "        \"name\" : \"tv3\",\n",
    "        \"price\": 3000\n",
    "    }\n",
    "]"
   ]
  },
  {
   "cell_type": "code",
   "execution_count": 8,
   "metadata": {},
   "outputs": [],
   "source": [
    "RESPONSE_OK = 200\n",
    "RESPONSE_NOT_FOUND = 404\n",
    "RESPONSE_CREATED = 201\n",
    "RESPONSE_BAD_REQUEST = 400"
   ]
  },
  {
   "cell_type": "code",
   "execution_count": 14,
   "metadata": {},
   "outputs": [],
   "source": [
    "class Tv(Resource):\n",
    "    def get(self, id):\n",
    "        for tv in tvs:\n",
    "            if (tv[\"id\"] == id):\n",
    "                return tv, RESPONSE_OK\n",
    "            \n",
    "        return \"Object not found\", RESPONSE_NOT_FOUND\n",
    "    \n",
    "    def post(self, id):\n",
    "        parser = reqparse.RequestParser()\n",
    "        parser.add_argument(\"name\")\n",
    "        parser.add_argument(\"price\")\n",
    "        args = parser.parse_args()\n",
    "        \n",
    "        for tv in tvs:\n",
    "            if (tv[\"id\"] == id):\n",
    "                return \"Object with id \" + id + \" already exists\", RESPONSE_BAD_REQUEST\n",
    "            \n",
    "        tv = \\\n",
    "        {\n",
    "            \"id\" : id,\n",
    "            \"name\" : args[\"name\"],\n",
    "            \"price\": args[\"price\"]\n",
    "        }\n",
    "        \n",
    "        tvs.append(tv)           \n",
    "        return tv, RESPONSE_CREATED\n",
    "        \n",
    "    def put(self, id):\n",
    "        parser = reqparse.RequestParser()\n",
    "        parser.add_argument(\"name\")\n",
    "        parser.add_argument(\"price\")\n",
    "        args = parser.parse_args()\n",
    "        \n",
    "        tv = \\\n",
    "        {\n",
    "            \"id\" : id,\n",
    "            \"name\" : args[\"name\"],\n",
    "            \"price\": args[\"price\"]\n",
    "        }\n",
    "        \n",
    "        for i in range(len(tvs)):\n",
    "            if (tvs[i][\"id\"] == id):\n",
    "                tvs[i] = tv\n",
    "                return tv, RESPONSE_OK\n",
    "            \n",
    "        tvs.append(tv)           \n",
    "        return tv, RESPONSE_CREATED\n",
    "    \n",
    "    def delete(self, id):\n",
    "        for i in range(len(tvs)):\n",
    "            if(tvs[i][\"id\"] == id):\n",
    "                tv = tvs[i]\n",
    "                del tvs[i]\n",
    "                return tv, RESPONSE_OK\n",
    "            \n",
    "        return \"Object with id \" + id + \" is not found\", RESPONSE_NOT_FOUND"
   ]
  },
  {
   "cell_type": "code",
   "execution_count": 11,
   "metadata": {},
   "outputs": [],
   "source": [
    "api.add_resource(Tv, \"/tv/<string:id>\")"
   ]
  },
  {
   "cell_type": "code",
   "execution_count": 13,
   "metadata": {},
   "outputs": [
    {
     "name": "stdout",
     "output_type": "stream",
     "text": [
      " * Serving Flask app \"__main__\" (lazy loading)\n",
      " * Environment: production\n",
      "   WARNING: Do not use the development server in a production environment.\n",
      "   Use a production WSGI server instead.\n",
      " * Debug mode: on\n"
     ]
    },
    {
     "name": "stderr",
     "output_type": "stream",
     "text": [
      " * Restarting with stat\n"
     ]
    },
    {
     "ename": "SystemExit",
     "evalue": "1",
     "output_type": "error",
     "traceback": [
      "An exception has occurred, use %tb to see the full traceback.\n",
      "\u001b[1;31mSystemExit\u001b[0m\u001b[1;31m:\u001b[0m 1\n"
     ]
    },
    {
     "name": "stderr",
     "output_type": "stream",
     "text": [
      "c:\\tools\\python\\python-3.7.3\\lib\\site-packages\\IPython\\core\\interactiveshell.py:3304: UserWarning: To exit: use 'exit', 'quit', or Ctrl-D.\n",
      "  warn(\"To exit: use 'exit', 'quit', or Ctrl-D.\", stacklevel=1)\n"
     ]
    }
   ],
   "source": [
    "app.run(debug = True)"
   ]
  },
  {
   "cell_type": "code",
   "execution_count": null,
   "metadata": {},
   "outputs": [],
   "source": []
  }
 ],
 "metadata": {
  "kernelspec": {
   "display_name": "Python 3",
   "language": "python",
   "name": "python3"
  },
  "language_info": {
   "codemirror_mode": {
    "name": "ipython",
    "version": 3
   },
   "file_extension": ".py",
   "mimetype": "text/x-python",
   "name": "python",
   "nbconvert_exporter": "python",
   "pygments_lexer": "ipython3",
   "version": "3.7.3"
  }
 },
 "nbformat": 4,
 "nbformat_minor": 2
}
